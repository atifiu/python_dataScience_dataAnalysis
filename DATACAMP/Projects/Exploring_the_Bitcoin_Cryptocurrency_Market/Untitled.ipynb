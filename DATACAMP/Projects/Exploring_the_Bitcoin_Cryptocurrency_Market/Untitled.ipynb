{
 "cells": [
  {
   "cell_type": "code",
   "execution_count": 1,
   "id": "89cac03e",
   "metadata": {},
   "outputs": [
    {
     "name": "stdout",
     "output_type": "stream",
     "text": [
      "Help on function use in module matplotlib.style.core:\n",
      "\n",
      "use(style)\n",
      "    Use Matplotlib style settings from a style specification.\n",
      "    \n",
      "    The style name of 'default' is reserved for reverting back to\n",
      "    the default style settings.\n",
      "    \n",
      "    .. note::\n",
      "    \n",
      "       This updates the `.rcParams` with the settings from the style.\n",
      "       `.rcParams` not defined in the style are kept.\n",
      "    \n",
      "    Parameters\n",
      "    ----------\n",
      "    style : str, dict, Path or list\n",
      "        A style specification. Valid options are:\n",
      "    \n",
      "        +------+-------------------------------------------------------------+\n",
      "        | str  | The name of a style or a path/URL to a style file. For a    |\n",
      "        |      | list of available style names, see `.style.available`.      |\n",
      "        +------+-------------------------------------------------------------+\n",
      "        | dict | Dictionary with valid key/value pairs for                   |\n",
      "        |      | `matplotlib.rcParams`.                                      |\n",
      "        +------+-------------------------------------------------------------+\n",
      "        | Path | A path-like object which is a path to a style file.         |\n",
      "        +------+-------------------------------------------------------------+\n",
      "        | list | A list of style specifiers (str, Path or dict) applied from |\n",
      "        |      | first to last in the list.                                  |\n",
      "        +------+-------------------------------------------------------------+\n",
      "    \n",
      "    Notes\n",
      "    -----\n",
      "    The following `.rcParams` are not related to style and will be ignored if\n",
      "    found in a style specification:\n",
      "    \n",
      "    - backend\n",
      "    - backend_fallback\n",
      "    - datapath\n",
      "    - date.epoch\n",
      "    - docstring.hardcopy\n",
      "    - figure.max_open_warning\n",
      "    - figure.raise_window\n",
      "    - interactive\n",
      "    - savefig.directory\n",
      "    - timezone\n",
      "    - tk.window_focus\n",
      "    - toolbar\n",
      "    - webagg.address\n",
      "    - webagg.open_in_browser\n",
      "    - webagg.port\n",
      "    - webagg.port_retries\n",
      "\n"
     ]
    }
   ],
   "source": [
    "import matplotlib.pyplot as plt\n",
    "help(plt.style.use)"
   ]
  }
 ],
 "metadata": {
  "kernelspec": {
   "display_name": "Python 3",
   "language": "python",
   "name": "python3"
  },
  "language_info": {
   "codemirror_mode": {
    "name": "ipython",
    "version": 3
   },
   "file_extension": ".py",
   "mimetype": "text/x-python",
   "name": "python",
   "nbconvert_exporter": "python",
   "pygments_lexer": "ipython3",
   "version": "3.8.8"
  }
 },
 "nbformat": 4,
 "nbformat_minor": 5
}
