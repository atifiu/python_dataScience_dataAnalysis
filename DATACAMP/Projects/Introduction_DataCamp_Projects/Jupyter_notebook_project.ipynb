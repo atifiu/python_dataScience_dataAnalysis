{
 "cells": [
  {
   "cell_type": "code",
   "execution_count": 1,
   "id": "76b46e17",
   "metadata": {},
   "outputs": [
    {
     "data": {
      "text/plain": [
       "368640"
      ]
     },
     "execution_count": 1,
     "metadata": {},
     "output_type": "execute_result"
    }
   ],
   "source": [
    "# I'm a code cell, click me, then run me!\n",
    "256 * 60 * 24 # Children × minutes × hours"
   ]
  },
  {
   "cell_type": "code",
   "execution_count": 2,
   "id": "8c9f34ea",
   "metadata": {},
   "outputs": [
    {
     "data": {
      "text/plain": [
       "'My name is Atif, Mohd Atif!'"
      ]
     },
     "execution_count": 2,
     "metadata": {},
     "output_type": "execute_result"
    }
   ],
   "source": [
    "def greet(first_name, last_name):\n",
    "    greeting = 'My name is ' + last_name + ', ' + first_name + ' ' + last_name + '!'\n",
    "    return greeting\n",
    "\n",
    "# Replace with your first and last name.\n",
    "# That is, unless your name is already Jane Bond.\n",
    "greet('Mohd', 'Atif')"
   ]
  },
  {
   "cell_type": "code",
   "execution_count": 15,
   "id": "0c9a4024",
   "metadata": {},
   "outputs": [
    {
     "name": "stdout",
     "output_type": "stream",
     "text": [
      "19.3.0.0.0\n",
      "(1, 'ATIF')\n",
      "(2, 'AMIT')\n",
      "(None, 'ARUN')\n",
      "(None, 'ARUN')\n",
      "    ID  NAME\n",
      "0  1.0  ATIF\n",
      "1  2.0  AMIT\n",
      "2  NaN  ARUN\n",
      "3  NaN  ARUN\n"
     ]
    }
   ],
   "source": [
    "import cx_Oracle\n",
    "import pandas as pd\n",
    "username = 'arup'\n",
    "password = 'arup'\n",
    "dbname =   '192.168.29.71:1521/testpdb1.localdomain'\n",
    "con = cx_Oracle.connect(username,password,dbname)\n",
    "print(con.version)\n",
    "cursor = con.cursor()\n",
    "#cursor.execute('CREATE TABLE A1(c1 number, c2 number)')\n",
    "statement1 = ('SELECT ID, NAME FROM TEST_EMP')\n",
    "cursor.execute(statement1,)\n",
    "rows = cursor.fetchall()\n",
    "for row in rows:\n",
    "    print(row)\n",
    "\n",
    "con.commit()\n",
    "\n",
    "query = \"\"\"SELECT ID, NAME FROM TEST_EMP\"\"\"\n",
    "\n",
    "df = pd.read_sql(query, con)\n",
    "print(df)"
   ]
  },
  {
   "cell_type": "code",
   "execution_count": null,
   "id": "304146ce",
   "metadata": {},
   "outputs": [],
   "source": []
  }
 ],
 "metadata": {
  "kernelspec": {
   "display_name": "Python 3",
   "language": "python",
   "name": "python3"
  },
  "language_info": {
   "codemirror_mode": {
    "name": "ipython",
    "version": 3
   },
   "file_extension": ".py",
   "mimetype": "text/x-python",
   "name": "python",
   "nbconvert_exporter": "python",
   "pygments_lexer": "ipython3",
   "version": "3.8.8"
  }
 },
 "nbformat": 4,
 "nbformat_minor": 5
}
