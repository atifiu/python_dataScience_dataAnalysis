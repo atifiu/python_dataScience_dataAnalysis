{
 "cells": [
  {
   "cell_type": "code",
   "execution_count": 10,
   "id": "e65f1035",
   "metadata": {},
   "outputs": [],
   "source": [
    "import os\n",
    "from pathlib import Path, PurePath\n",
    "import sqlalchemy"
   ]
  },
  {
   "cell_type": "code",
   "execution_count": 11,
   "id": "f8b0892a",
   "metadata": {},
   "outputs": [
    {
     "name": "stdout",
     "output_type": "stream",
     "text": [
      "C:\\Users\\Atif\\Documents\\Python_complete_learnings\\Python_file_operations\n",
      "C:\\Users\\Atif\\Documents\\Python_complete_learnings\\Python_file_operations\n"
     ]
    }
   ],
   "source": [
    "print(Path.cwd())\n",
    "print(os.getcwd())"
   ]
  },
  {
   "cell_type": "code",
   "execution_count": 12,
   "id": "647faf79",
   "metadata": {},
   "outputs": [
    {
     "data": {
      "text/plain": [
       "['.ipynb_checkpoints',\n",
       " 'dataset',\n",
       " 'file_operations.ipynb',\n",
       " 'test_file.py',\n",
       " 'Untitled.ipynb']"
      ]
     },
     "execution_count": 12,
     "metadata": {},
     "output_type": "execute_result"
    }
   ],
   "source": [
    "os.listdir()"
   ]
  },
  {
   "cell_type": "code",
   "execution_count": 13,
   "id": "b57cbc50",
   "metadata": {},
   "outputs": [
    {
     "data": {
      "text/plain": [
       "[WindowsPath('.ipynb_checkpoints'),\n",
       " WindowsPath('dataset'),\n",
       " WindowsPath('file_operations.ipynb'),\n",
       " WindowsPath('test_file.py'),\n",
       " WindowsPath('Untitled.ipynb')]"
      ]
     },
     "execution_count": 13,
     "metadata": {},
     "output_type": "execute_result"
    }
   ],
   "source": [
    "list(Path().iterdir())"
   ]
  },
  {
   "cell_type": "code",
   "execution_count": 16,
   "id": "08eaffbc",
   "metadata": {},
   "outputs": [
    {
     "data": {
      "text/plain": [
       "str"
      ]
     },
     "execution_count": 16,
     "metadata": {},
     "output_type": "execute_result"
    }
   ],
   "source": [
    "os.path.join(os.getcwd(), 'dataset')"
   ]
  },
  {
   "cell_type": "code",
   "execution_count": 18,
   "id": "6ae03a29",
   "metadata": {},
   "outputs": [
    {
     "data": {
      "text/plain": [
       "WindowsPath('C:/Users/Atif/Documents/Python_complete_learnings/Python_file_operations/dataset')"
      ]
     },
     "execution_count": 18,
     "metadata": {},
     "output_type": "execute_result"
    }
   ],
   "source": [
    "PurePath.joinpath(Path.cwd(), 'dataset')"
   ]
  },
  {
   "cell_type": "code",
   "execution_count": 19,
   "id": "5911399e",
   "metadata": {},
   "outputs": [],
   "source": [
    "os.mkdir('dataset_new')"
   ]
  },
  {
   "cell_type": "code",
   "execution_count": 20,
   "id": "f9226c2b",
   "metadata": {},
   "outputs": [],
   "source": [
    "Path('dataset_new1').mkdir()"
   ]
  },
  {
   "cell_type": "code",
   "execution_count": 23,
   "id": "015d8af6",
   "metadata": {},
   "outputs": [
    {
     "data": {
      "text/plain": [
       "True"
      ]
     },
     "execution_count": 23,
     "metadata": {},
     "output_type": "execute_result"
    }
   ],
   "source": [
    "os.path.exists('Dataset')"
   ]
  },
  {
   "cell_type": "code",
   "execution_count": 24,
   "id": "3fee7253",
   "metadata": {},
   "outputs": [
    {
     "data": {
      "text/plain": [
       "True"
      ]
     },
     "execution_count": 24,
     "metadata": {},
     "output_type": "execute_result"
    }
   ],
   "source": [
    "check_path = Path('Dataset')\n",
    "check_path.exists()"
   ]
  },
  {
   "cell_type": "code",
   "execution_count": 30,
   "id": "6c530e1a",
   "metadata": {},
   "outputs": [
    {
     "data": {
      "text/plain": [
       "'C:\\\\Users\\\\Atif\\\\Documents\\\\Python_complete_learnings\\\\Python_file_operations\\\\test_file.py'"
      ]
     },
     "execution_count": 30,
     "metadata": {},
     "output_type": "execute_result"
    }
   ],
   "source": [
    "os.path.abspath('test_file.py')"
   ]
  },
  {
   "cell_type": "code",
   "execution_count": 29,
   "id": "291b5111",
   "metadata": {},
   "outputs": [
    {
     "data": {
      "text/plain": [
       "WindowsPath('C:/Users/Atif/Dropbox/My PC (DESKTOP-611SLJC)/Documents/Python_complete_learnings/Python_file_operations/test_file.py')"
      ]
     },
     "execution_count": 29,
     "metadata": {},
     "output_type": "execute_result"
    }
   ],
   "source": [
    "script = Path('test_file.py')\n",
    "script.resolve()"
   ]
  },
  {
   "cell_type": "code",
   "execution_count": 31,
   "id": "ac4e1c95",
   "metadata": {},
   "outputs": [
    {
     "name": "stderr",
     "output_type": "stream",
     "text": [
      "'ls' is not recognized as an internal or external command,\n",
      "operable program or batch file.\n"
     ]
    }
   ],
   "source": []
  },
  {
   "cell_type": "code",
   "execution_count": null,
   "id": "9fd3c293",
   "metadata": {},
   "outputs": [],
   "source": []
  }
 ],
 "metadata": {
  "kernelspec": {
   "display_name": "Python 3",
   "language": "python",
   "name": "python3"
  },
  "language_info": {
   "codemirror_mode": {
    "name": "ipython",
    "version": 3
   },
   "file_extension": ".py",
   "mimetype": "text/x-python",
   "name": "python",
   "nbconvert_exporter": "python",
   "pygments_lexer": "ipython3",
   "version": "3.8.8"
  }
 },
 "nbformat": 4,
 "nbformat_minor": 5
}
